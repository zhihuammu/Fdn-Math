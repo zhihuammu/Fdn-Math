{
 "cells": [
  {
   "cell_type": "markdown",
   "id": "c5939074-0563-4c42-8d77-f8edda6b290f",
   "metadata": {},
   "source": [
    "# 1D Poisson Equation \n",
    "\n",
    "$$\\dfrac{\\mathrm{d}^2 u}{ \\mathrm{d} x^2}=f, \\quad x \\in [a, b]$$\n",
    "\n",
    "$$u(a)=u_a, \\quad u(b)=u_b$$\n",
    "\n",
    "## Domain Discretisation\n",
    "\n",
    "![1d mesh](../images/1dmesh.png)\n",
    "\n",
    "Divide the domain uniformlly into $M$ parts by using $N=M+1$ points, so the step size is\n",
    "\n",
    "$$h=\\dfrac{b-a}{M},$$\n",
    "\n",
    "the coordinates of the points are\n",
    "\n",
    "$$x(i)=a+(i-1)h, \\quad i=1,2,\\ldots,N$$\n",
    "\n",
    "boundary condition\n",
    "\n",
    "$$u[1]=u_a, \\quad u[N]=u_b$$"
   ]
  },
  {
   "cell_type": "markdown",
   "id": "0208da17",
   "metadata": {},
   "source": [
    "## Equation Discretisation\n",
    "\n",
    "At point $i$,\n",
    "\n",
    "$$\\dfrac{u_{i-1}-2u_{i}+u_{i+1}}{h^2}=f_i$$\n",
    "\n",
    "so\n",
    "\n",
    "$$u_{i-1}-2u_{i}+u_{i+1}=h^2 f_i$$\n",
    "\n",
    "### Point Iteration Method\n",
    "\n",
    "A point iteration can be used to find $u_i$ as\n",
    "\n",
    "$$ u_{i} = \\frac{1}{2} \\Bigl( u_{i-1} + u_{i+1} - h^2 f_i \\Bigr)$$"
   ]
  },
  {
   "cell_type": "markdown",
   "id": "f0e5e116",
   "metadata": {},
   "source": [
    "### Linear Algebra Method\n",
    "\n",
    "Supposing $N=11$, write down all the 11 equations (at mesh points):\n",
    "\n",
    "$u_1=u_a$\n",
    "\n",
    "$u_{1}-2u_{2}+u_{3}=h^2 f_2$\n",
    "\n",
    "$u_{2}-2u_{3}+u_{4}=h^2 f_3$\n",
    "\n",
    "$u_{3}-2u_{4}+u_{5}=h^2 f_4$\n",
    "\n",
    "$u_{4}-2u_{5}+u_{6}=h^2 f_5$\n",
    "\n",
    "$u_{5}-2u_{6}+u_{7}=h^2 f_6$\n",
    "\n",
    "$u_{6}-2u_{7}+u_{8}=h^2 f_7$\n",
    "\n",
    "$u_{7}-2u_{8}+u_{9}=h^2 f_8$\n",
    "\n",
    "$u_{8}-2u_{9}+u_{10}=h^2 f_9$\n",
    "\n",
    "$u_{9}-2u_{10}+u_{11}=h^2 f_{10}$\n",
    "\n",
    "$u_{11}=u_b$\n",
    "\n",
    "\n",
    "\n",
    "<!-- $u_{N-4}-2u_{N-3}+u_{N-2}=h^2 f_{N-3}$\n",
    "\n",
    "$u_{N-3}-2u_{N-2}+u_{N-1}=h^2 f_{N-2}$\n",
    "\n",
    "$u_{N-2}-2u_{N-1}+u_{N}=h^2 f_{N-1}$ -->\n"
   ]
  },
  {
   "cell_type": "markdown",
   "id": "a10903dd",
   "metadata": {},
   "source": [
    "Assemble these equations into a linear system $Au=r$\n",
    "$$\n",
    "\n",
    "\\begin{bmatrix}\n",
    "1 &  0 & 0\\\\\n",
    "1 & -2 &  1 & 0\\\\\n",
    "0 &  1 & -2 & 1  & 0\\\\\n",
    "0 &  0 &  1 & -2 &  1 & 0   \\\\\n",
    "0 &  0 &  0 &  1 & -2 & 1  & 0\\\\\n",
    "0 &  0 &  0 &  0 &  1 & -2 & 1  & 0\\\\\n",
    "0 &  0 &  0 &  0 &  0 &  1 & -2 & 1  & 0\\\\\n",
    "0 &  0 &  0 &  0 &  0 &  0 &  1 & -2 & 1  & 0\\\\\n",
    "0 &  0 &  0 &  0 &  0 &  0 &  0 &  1 & -2 & 1  & 0\\\\\n",
    "0 &  0 &  0 &  0 &  0 &  0 &  0 &  0 &  1 & -2 & 1  \\\\\n",
    "0 &  0 &  0 &  0 &  0 &  0 &  0 &  0 &  0 &  0 & 1  \\\\\n",
    "\\end{bmatrix}\n",
    "\\begin{bmatrix}\n",
    "u_1 \\\\\n",
    "u_2 \\\\\n",
    "u_3 \\\\\n",
    "u_4 \\\\\n",
    "u_5 \\\\\n",
    "u_6 \\\\\n",
    "u_7 \\\\\n",
    "u_8 \\\\\n",
    "u_9 \\\\\n",
    "u_{10} \\\\\n",
    "u_{11} \\\\\n",
    "\\end{bmatrix}\n",
    "=\n",
    "\\begin{bmatrix}\n",
    "u_{a} \\\\\n",
    "h^2 f_2 \\\\\n",
    "h^2 f_3 \\\\\n",
    "h^2 f_4 \\\\\n",
    "h^2 f_5 \\\\\n",
    "h^2 f_6 \\\\\n",
    "h^2 f_7 \\\\\n",
    "h^2 f_8 \\\\\n",
    "h^2 f_9 \\\\\n",
    "h^2 f_{10} \\\\\n",
    "u_{b} \\\\\n",
    "\\end{bmatrix}\n",
    "$$"
   ]
  },
  {
   "cell_type": "markdown",
   "id": "816e4257-7391-44c1-b981-2eebc72f7edd",
   "metadata": {},
   "source": [
    "## Python Code for Linear Algebra Method"
   ]
  },
  {
   "cell_type": "markdown",
   "id": "2a52c684-1960-4e55-b04a-36ff732648b1",
   "metadata": {},
   "source": [
    "### Import python libraries"
   ]
  },
  {
   "cell_type": "code",
   "execution_count": 3,
   "id": "a43c44c4-cfd6-4866-9561-2e64a69e4db2",
   "metadata": {},
   "outputs": [
    {
     "name": "stdout",
     "output_type": "stream",
     "text": [
      "%pylab is deprecated, use %matplotlib inline and import the required libraries.\n",
      "Populating the interactive namespace from numpy and matplotlib\n"
     ]
    }
   ],
   "source": [
    "%pylab inline\n",
    "import math\n",
    "import time\n",
    "import matplotlib.pyplot as plt\n",
    "import numpy as np\n",
    "from numpy import linalg as LA\n",
    "import scipy as sp\n",
    "import scipy.sparse as sparse\n",
    "import scipy.sparse.linalg as sLA"
   ]
  },
  {
   "cell_type": "markdown",
   "id": "56ae005a",
   "metadata": {},
   "source": [
    "### Define mesh and initial numerical & exact solutions"
   ]
  },
  {
   "cell_type": "code",
   "execution_count": 4,
   "id": "bcb84b8a",
   "metadata": {},
   "outputs": [
    {
     "name": "stdout",
     "output_type": "stream",
     "text": [
      "h=0.100000\n",
      "x: [0.  0.1 0.2 0.3 0.4 0.5 0.6 0.7 0.8 0.9 1. ]\n",
      "ue: [0.   0.01 0.04 0.09 0.16 0.25 0.36 0.49 0.64 0.81 1.  ]\n",
      "f: [2. 2. 2. 2. 2. 2. 2. 2. 2. 2. 2.]\n",
      "u: [0. 0. 0. 0. 0. 0. 0. 0. 0. 0. 1.]\n"
     ]
    }
   ],
   "source": [
    "#Domain Length\n",
    "L=1.0\n",
    "xa=0.0\n",
    "xb=xa+L\n",
    "\n",
    "#Number of cells\n",
    "M=int(10)\n",
    "\n",
    "#Number of points\n",
    "N=M+1\n",
    "\n",
    "#step size\n",
    "h=L/M\n",
    "\n",
    "#mesh points\n",
    "x=np.arange(0,L+h,h)+xa\n",
    "\n",
    "print(\"h=%f\" %(h))\n",
    "print(\"x:\", x)\n",
    "\n",
    "#exact solution: ue=x^2\n",
    "ue=np.power(x,2)\n",
    "\n",
    "print(\"ue:\", ue)\n",
    "\n",
    "#source term: f\n",
    "f=np.ones(N)*2\n",
    "\n",
    "print(\"f:\",f)\n",
    "\n",
    "#numerical solution: u\n",
    "u=np.zeros(N)\n",
    "\n",
    "##boundary condition\n",
    "u[0]=ue[0]\n",
    "u[-1]=ue[-1]\n",
    "\n",
    "print(\"u:\", u)\n",
    "\n"
   ]
  },
  {
   "cell_type": "markdown",
   "id": "36112f21",
   "metadata": {},
   "source": [
    "### Assemble the dense linear system: $Au=r$"
   ]
  },
  {
   "cell_type": "code",
   "execution_count": 5,
   "id": "87757c63",
   "metadata": {},
   "outputs": [
    {
     "name": "stdout",
     "output_type": "stream",
     "text": [
      "r: [0.   0.02 0.02 0.02 0.02 0.02 0.02 0.02 0.02 0.02 1.  ]\n",
      "[[ 1.  0.  0.  0.  0.  0.  0.  0.  0.  0.  0.]\n",
      " [ 1. -2.  1.  0.  0.  0.  0.  0.  0.  0.  0.]\n",
      " [ 0.  1. -2.  1.  0.  0.  0.  0.  0.  0.  0.]\n",
      " [ 0.  0.  1. -2.  1.  0.  0.  0.  0.  0.  0.]\n",
      " [ 0.  0.  0.  1. -2.  1.  0.  0.  0.  0.  0.]\n",
      " [ 0.  0.  0.  0.  1. -2.  1.  0.  0.  0.  0.]\n",
      " [ 0.  0.  0.  0.  0.  1. -2.  1.  0.  0.  0.]\n",
      " [ 0.  0.  0.  0.  0.  0.  1. -2.  1.  0.  0.]\n",
      " [ 0.  0.  0.  0.  0.  0.  0.  1. -2.  1.  0.]\n",
      " [ 0.  0.  0.  0.  0.  0.  0.  0.  1. -2.  1.]\n",
      " [ 0.  0.  0.  0.  0.  0.  0.  0.  0.  0.  1.]]\n"
     ]
    }
   ],
   "source": [
    "##assemble the right hand side: r\n",
    "r=np.zeros(N)\n",
    "\n",
    "\n",
    "r[0]=ue[0]\n",
    "r[-1]=ue[-1]\n",
    "\n",
    "for i in range(1,N-1):\n",
    "    # print(\"i=%d\" %(i))\n",
    "    r[i]=h**2*f[i]\n",
    "\n",
    "print(\"r:\", r)\n",
    "\n",
    "##assemble the matrix: A\n",
    "\n",
    "A=np.zeros([N, N])\n",
    "A[0,0]=1\n",
    "A[-1,-1]=1\n",
    "\n",
    "for i in range(1,N-1):\n",
    "    A[i,i-1]=1\n",
    "    A[i,i]=-2\n",
    "    A[i,i+1]=1\n",
    "\n",
    "print(A)\n"
   ]
  },
  {
   "cell_type": "markdown",
   "id": "54ef5c6d",
   "metadata": {},
   "source": [
    "### Solve the linear system: Au=r"
   ]
  },
  {
   "cell_type": "code",
   "execution_count": 6,
   "id": "2c373797",
   "metadata": {},
   "outputs": [
    {
     "name": "stdout",
     "output_type": "stream",
     "text": [
      "ue: [0.   0.01 0.04 0.09 0.16 0.25 0.36 0.49 0.64 0.81 1.  ]\n",
      "u: [0.   0.01 0.04 0.09 0.16 0.25 0.36 0.49 0.64 0.81 1.  ]\n",
      "error= 2.0969355746610596e-16\n"
     ]
    },
    {
     "data": {
      "text/plain": [
       "Text(0.5, 1.0, 'Dense Matrix Solution')"
      ]
     },
     "execution_count": 6,
     "metadata": {},
     "output_type": "execute_result"
    },
    {
     "data": {
      "image/png": "[encoded data removed]",
      "text/plain": [
       "<Figure size 640x480 with 1 Axes>"
      ]
     },
     "metadata": {},
     "output_type": "display_data"
    }
   ],
   "source": [
    "u=LA.solve(A,r)\n",
    "\n",
    "print(\"ue:\", ue)\n",
    "print(\"u:\",u)\n",
    "\n",
    "error=LA.norm(u-ue)\n",
    "print(\"error=\",error)\n",
    "\n",
    "#plot solutions\n",
    "plt.plot(x,ue,'r-',label=\"exact\")\n",
    "plt.plot(x,u,'b--',label=\"numerical\")\n",
    "plt.xlabel(r'$x$', fontsize=16)\n",
    "plt.ylabel(r'$u$', fontsize=16)\n",
    "plt.legend(loc=\"upper left\")\n",
    "plt.title(\"Dense Matrix Solution\")"
   ]
  },
  {
   "cell_type": "markdown",
   "id": "1236e270",
   "metadata": {},
   "source": [
    "### Try sparse linear algebra"
   ]
  },
  {
   "cell_type": "markdown",
   "id": "03e8da67",
   "metadata": {},
   "source": [
    "#### Convert Dense matrix to CSR matrix"
   ]
  },
  {
   "cell_type": "code",
   "execution_count": 7,
   "id": "0c8899e9",
   "metadata": {},
   "outputs": [
    {
     "data": {
      "text/plain": [
       "array([[ 1.,  0.,  0.,  0.,  0.,  0.,  0.,  0.,  0.,  0.,  0.],\n",
       "       [ 1., -2.,  1.,  0.,  0.,  0.,  0.,  0.,  0.,  0.,  0.],\n",
       "       [ 0.,  1., -2.,  1.,  0.,  0.,  0.,  0.,  0.,  0.,  0.],\n",
       "       [ 0.,  0.,  1., -2.,  1.,  0.,  0.,  0.,  0.,  0.,  0.],\n",
       "       [ 0.,  0.,  0.,  1., -2.,  1.,  0.,  0.,  0.,  0.,  0.],\n",
       "       [ 0.,  0.,  0.,  0.,  1., -2.,  1.,  0.,  0.,  0.,  0.],\n",
       "       [ 0.,  0.,  0.,  0.,  0.,  1., -2.,  1.,  0.,  0.,  0.],\n",
       "       [ 0.,  0.,  0.,  0.,  0.,  0.,  1., -2.,  1.,  0.,  0.],\n",
       "       [ 0.,  0.,  0.,  0.,  0.,  0.,  0.,  1., -2.,  1.,  0.],\n",
       "       [ 0.,  0.,  0.,  0.,  0.,  0.,  0.,  0.,  1., -2.,  1.],\n",
       "       [ 0.,  0.,  0.,  0.,  0.,  0.,  0.,  0.,  0.,  0.,  1.]])"
      ]
     },
     "execution_count": 7,
     "metadata": {},
     "output_type": "execute_result"
    }
   ],
   "source": [
    "Acsr=sparse.csr_matrix(A)\n",
    "Acsr.toarray()"
   ]
  },
  {
   "cell_type": "code",
   "execution_count": 8,
   "id": "c68d81aa",
   "metadata": {},
   "outputs": [
    {
     "data": {
      "text/plain": [
       "<11x11 sparse matrix of type '<class 'numpy.float64'>'\n",
       "\twith 29 stored elements in Compressed Sparse Row format>"
      ]
     },
     "execution_count": 8,
     "metadata": {},
     "output_type": "execute_result"
    }
   ],
   "source": [
    "Acsr"
   ]
  },
  {
   "cell_type": "markdown",
   "id": "6839234b",
   "metadata": {},
   "source": [
    "#### Assemble the sparse matrix in COO format"
   ]
  },
  {
   "cell_type": "code",
   "execution_count": 9,
   "id": "c91052b9",
   "metadata": {},
   "outputs": [
    {
     "name": "stdout",
     "output_type": "stream",
     "text": [
      "NNZ= 29\n",
      "Idx: [ 0  1  1  1  2  2  2  3  3  3  4  4  4  5  5  5  6  6  6  7  7  7  8  8\n",
      "  8  9  9  9 10]\n",
      "Jdx: [ 0  0  1  2  1  2  3  2  3  4  3  4  5  4  5  6  5  6  7  6  7  8  7  8\n",
      "  9  8  9 10 10]\n",
      "vals: [ 1.  1. -2.  1.  1. -2.  1.  1. -2.  1.  1. -2.  1.  1. -2.  1.  1. -2.\n",
      "  1.  1. -2.  1.  1. -2.  1.  1. -2.  1.  1.]\n"
     ]
    }
   ],
   "source": [
    "#number of non-zero elements in the sparse matrix A\n",
    "NNZ=(N-2)*3+2\n",
    "print(\"NNZ=\",NNZ)\n",
    "\n",
    "# I & J indices\n",
    "Idx=np.zeros(NNZ,dtype=int)\n",
    "Jdx=np.zeros(NNZ,dtype=int)\n",
    "# print(\"Idx:\", Idx)\n",
    "# print(\"Jdx:\", Jdx)\n",
    "\n",
    "#non-zero elements in the matrix \n",
    "vals=np.zeros(NNZ,dtype=float)\n",
    "# print(\"vals:\",vals)\n",
    "\n",
    "counter=-1\n",
    "for i in range(N):\n",
    "    #print(\"i=\",i)\n",
    "\n",
    "    if(i==0):\n",
    "        counter=counter+1\n",
    "        Idx[counter]=i\n",
    "        Jdx[counter]=i\n",
    "        vals[counter]=1\n",
    "    elif(i==N-1):   \n",
    "        counter=counter+1\n",
    "        Idx[counter]=i\n",
    "        Jdx[counter]=i\n",
    "        vals[counter]=1\n",
    "    else:    \n",
    "        #left\n",
    "        counter=counter+1\n",
    "        Idx[counter]=i\n",
    "        Jdx[counter]=i-1\n",
    "        vals[counter]=1\n",
    "\n",
    "        #center\n",
    "        counter=counter+1\n",
    "        Idx[counter]=i\n",
    "        Jdx[counter]=i\n",
    "        vals[counter]=-2\n",
    "\n",
    "        #right\n",
    "        counter=counter+1\n",
    "        Idx[counter]=i\n",
    "        Jdx[counter]=i+1\n",
    "        vals[counter]=1\n",
    "\n",
    "print(\"Idx:\", Idx)\n",
    "print(\"Jdx:\", Jdx)\n",
    "print(\"vals:\",vals)\n",
    "\n",
    "Acoo=sparse.coo_matrix((vals,(Idx,Jdx)),shape=(N,N))\n",
    "\n",
    "#Convert COO format to CSR format\n",
    "Acsr=Acoo.tocsr()\n"
   ]
  },
  {
   "cell_type": "code",
   "execution_count": 10,
   "id": "79a057b8",
   "metadata": {},
   "outputs": [
    {
     "data": {
      "text/plain": [
       "<11x11 sparse matrix of type '<class 'numpy.float64'>'\n",
       "\twith 29 stored elements in Compressed Sparse Row format>"
      ]
     },
     "execution_count": 10,
     "metadata": {},
     "output_type": "execute_result"
    }
   ],
   "source": [
    "Acsr"
   ]
  },
  {
   "cell_type": "code",
   "execution_count": 11,
   "id": "456c9a4b",
   "metadata": {},
   "outputs": [
    {
     "data": {
      "text/plain": [
       "array([[ 1.,  0.,  0.,  0.,  0.,  0.,  0.,  0.,  0.,  0.,  0.],\n",
       "       [ 1., -2.,  1.,  0.,  0.,  0.,  0.,  0.,  0.,  0.,  0.],\n",
       "       [ 0.,  1., -2.,  1.,  0.,  0.,  0.,  0.,  0.,  0.,  0.],\n",
       "       [ 0.,  0.,  1., -2.,  1.,  0.,  0.,  0.,  0.,  0.,  0.],\n",
       "       [ 0.,  0.,  0.,  1., -2.,  1.,  0.,  0.,  0.,  0.,  0.],\n",
       "       [ 0.,  0.,  0.,  0.,  1., -2.,  1.,  0.,  0.,  0.,  0.],\n",
       "       [ 0.,  0.,  0.,  0.,  0.,  1., -2.,  1.,  0.,  0.,  0.],\n",
       "       [ 0.,  0.,  0.,  0.,  0.,  0.,  1., -2.,  1.,  0.,  0.],\n",
       "       [ 0.,  0.,  0.,  0.,  0.,  0.,  0.,  1., -2.,  1.,  0.],\n",
       "       [ 0.,  0.,  0.,  0.,  0.,  0.,  0.,  0.,  1., -2.,  1.],\n",
       "       [ 0.,  0.,  0.,  0.,  0.,  0.,  0.,  0.,  0.,  0.,  1.]])"
      ]
     },
     "execution_count": 11,
     "metadata": {},
     "output_type": "execute_result"
    }
   ],
   "source": [
    "Acsr.toarray()"
   ]
  },
  {
   "cell_type": "markdown",
   "id": "78e9bb43",
   "metadata": {},
   "source": [
    "#### Solve the sparse linear system Au=r"
   ]
  },
  {
   "cell_type": "code",
   "execution_count": 12,
   "id": "1fedf869",
   "metadata": {},
   "outputs": [
    {
     "name": "stdout",
     "output_type": "stream",
     "text": [
      "ue= [0.   0.01 0.04 0.09 0.16 0.25 0.36 0.49 0.64 0.81 1.  ]\n",
      "u= [0.   0.01 0.04 0.09 0.16 0.25 0.36 0.49 0.64 0.81 1.  ]\n",
      "u2= [0.   0.01 0.04 0.09 0.16 0.25 0.36 0.49 0.64 0.81 1.  ]\n",
      "u3= [0.   0.01 0.04 0.09 0.16 0.25 0.36 0.49 0.64 0.81 1.  ]\n",
      "error= 2.0969355746610596e-16\n",
      "error2= 4.0964458188396723e-16\n",
      "error3= 3.8654372650192143e-16\n"
     ]
    },
    {
     "data": {
      "text/plain": [
       "Text(0.5, 1.0, 'Sparse Matrix Solution')"
      ]
     },
     "execution_count": 12,
     "metadata": {},
     "output_type": "execute_result"
    },
    {
     "data": {
      "image/png": "[encoded data removed]",
      "text/plain": [
       "<Figure size 640x480 with 1 Axes>"
      ]
     },
     "metadata": {},
     "output_type": "display_data"
    }
   ],
   "source": [
    "u2=sLA.spsolve(Acsr,r)\n",
    "error2=LA.norm(u2-ue)\n",
    "\n",
    "u3=sLA.spsolve(Acoo.tocsc(),r)\n",
    "error3=LA.norm(u3-ue)\n",
    "\n",
    "print(\"ue=\",ue)\n",
    "print(\"u=\",u)\n",
    "print(\"u2=\",u2)\n",
    "print(\"u3=\",u3)\n",
    "print(\"error=\",error)\n",
    "print(\"error2=\",error2)\n",
    "print(\"error3=\",error3)\n",
    "\n",
    "#plot solutions\n",
    "plt.figure(1)\n",
    "plt.plot(x,ue,'r-',label=\"exact\")\n",
    "plt.plot(x,u2,'b--',label=\"numerical2\")\n",
    "plt.xlabel(r'$x$', fontsize=16)\n",
    "plt.ylabel(r'$u$', fontsize=16)\n",
    "plt.legend(loc=\"upper left\")\n",
    "plt.title(\"Sparse Matrix Solution\")"
   ]
  },
  {
   "cell_type": "markdown",
   "id": "f77df363",
   "metadata": {},
   "source": [
    "##### Plot errors"
   ]
  },
  {
   "cell_type": "code",
   "execution_count": 13,
   "id": "3fc6c519",
   "metadata": {},
   "outputs": [
    {
     "data": {
      "text/plain": [
       "Text(0.5, 1.0, 'Numerical error')"
      ]
     },
     "execution_count": 13,
     "metadata": {},
     "output_type": "execute_result"
    },
    {
     "data": {
      "image/png": "[encoded data removed]",
      "text/plain": [
       "<Figure size 640x480 with 1 Axes>"
      ]
     },
     "metadata": {},
     "output_type": "display_data"
    }
   ],
   "source": [
    "plt.figure(2)\n",
    "plt.plot(x,u-ue,'r',label=\"u-ue: Dense\")\n",
    "plt.plot(x,u2-ue,'b--',label=\"u2-ue: CSR \")\n",
    "plt.plot(x,u3-ue,'go',label=\"u3-ue: CSC \")\n",
    "plt.xlabel(r'$x$', fontsize=16)\n",
    "plt.ylabel(r'$e$', fontsize=16)\n",
    "plt.legend(loc=\"upper left\")\n",
    "plt.title(\"Numerical error\")"
   ]
  },
  {
   "cell_type": "code",
   "execution_count": 31,
   "id": "eceb7eb7",
   "metadata": {},
   "outputs": [
    {
     "name": "stdout",
     "output_type": "stream",
     "text": [
      "x   = [0.  0.1 0.2 0.3 0.4 0.5 0.6 0.7 0.8 0.9 1. ]\n",
      "x[:]= [0.  0.1 0.2 0.3 0.4 0.5 0.6 0.7 0.8 0.9 1. ]\n",
      "x[ :3]= [0.  0.1 0.2]\n",
      "x[0:3]= [0.  0.1 0.2]\n",
      "x[1:3]= [0.1 0.2]\n",
      "x[2:3]= [0.2]\n",
      "x[3:3]= []\n"
     ]
    }
   ],
   "source": [
    "print(\"x   =\",x)\n",
    "print(\"x[:]=\",x[:])\n",
    "print(\"x[ :3]=\",x[ :3])\n",
    "print(\"x[0:3]=\",x[0:3])\n",
    "print(\"x[1:3]=\",x[1:3])\n",
    "print(\"x[2:3]=\",x[2:3])\n",
    "print(\"x[3:3]=\",x[3:3])\n"
   ]
  }
 ],
 "metadata": {
  "kernelspec": {
   "display_name": "Python 3 (ipykernel)",
   "language": "python",
   "name": "python3"
  },
  "language_info": {
   "codemirror_mode": {
    "name": "ipython",
    "version": 3
   },
   "file_extension": ".py",
   "mimetype": "text/x-python",
   "name": "python",
   "nbconvert_exporter": "python",
   "pygments_lexer": "ipython3",
   "version": "3.11.5"
  }
 },
 "nbformat": 4,
 "nbformat_minor": 5
}
