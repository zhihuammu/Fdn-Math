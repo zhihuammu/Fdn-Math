{
 "cells": [
  {
   "cell_type": "markdown",
   "metadata": {},
   "source": [
    "# Sparse Matrices\n",
    "\n",
    "[**Scientific Computing with Python** by Brad Nelson, 2021](https://caam37830.github.io/book/02_linear_algebra/sparse.html)"
   ]
  }
 ],
 "metadata": {
  "kernelspec": {
   "display_name": "base",
   "language": "python",
   "name": "python3"
  },
  "language_info": {
   "name": "python",
   "version": "3.11.5"
  }
 },
 "nbformat": 4,
 "nbformat_minor": 2
}
